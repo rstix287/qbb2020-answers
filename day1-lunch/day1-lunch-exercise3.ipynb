{
 "cells": [
  {
   "cell_type": "markdown",
   "metadata": {},
   "source": [
    "# Exercise 3"
   ]
  },
  {
   "cell_type": "markdown",
   "metadata": {},
   "source": [
    "# load modules"
   ]
  },
  {
   "cell_type": "code",
   "execution_count": 1,
   "metadata": {},
   "outputs": [],
   "source": [
    "import numpy as np\n",
    "import pandas as pd\n",
    "import matplotlib.pyplot as plt"
   ]
  },
  {
   "cell_type": "markdown",
   "metadata": {},
   "source": [
    "# load K4, K9 and K27"
   ]
  },
  {
   "cell_type": "code",
   "execution_count": 2,
   "metadata": {},
   "outputs": [
    {
     "data": {
      "text/html": [
       "<div>\n",
       "<style scoped>\n",
       "    .dataframe tbody tr th:only-of-type {\n",
       "        vertical-align: middle;\n",
       "    }\n",
       "\n",
       "    .dataframe tbody tr th {\n",
       "        vertical-align: top;\n",
       "    }\n",
       "\n",
       "    .dataframe thead th {\n",
       "        text-align: right;\n",
       "    }\n",
       "</style>\n",
       "<table border=\"1\" class=\"dataframe\">\n",
       "  <thead>\n",
       "    <tr style=\"text-align: right;\">\n",
       "      <th></th>\n",
       "      <th>chr</th>\n",
       "      <th>start</th>\n",
       "      <th>end</th>\n",
       "    </tr>\n",
       "  </thead>\n",
       "  <tbody>\n",
       "    <tr>\n",
       "      <th>0</th>\n",
       "      <td>3L</td>\n",
       "      <td>15823270</td>\n",
       "      <td>15830715</td>\n",
       "    </tr>\n",
       "    <tr>\n",
       "      <th>1</th>\n",
       "      <td>2R</td>\n",
       "      <td>11451787</td>\n",
       "      <td>11459612</td>\n",
       "    </tr>\n",
       "    <tr>\n",
       "      <th>2</th>\n",
       "      <td>3R</td>\n",
       "      <td>21665759</td>\n",
       "      <td>21673392</td>\n",
       "    </tr>\n",
       "    <tr>\n",
       "      <th>3</th>\n",
       "      <td>2R</td>\n",
       "      <td>20324929</td>\n",
       "      <td>20331038</td>\n",
       "    </tr>\n",
       "    <tr>\n",
       "      <th>4</th>\n",
       "      <td>3R</td>\n",
       "      <td>19859679</td>\n",
       "      <td>19864278</td>\n",
       "    </tr>\n",
       "    <tr>\n",
       "      <th>...</th>\n",
       "      <td>...</td>\n",
       "      <td>...</td>\n",
       "      <td>...</td>\n",
       "    </tr>\n",
       "    <tr>\n",
       "      <th>3825</th>\n",
       "      <td>3R</td>\n",
       "      <td>565835</td>\n",
       "      <td>566082</td>\n",
       "    </tr>\n",
       "    <tr>\n",
       "      <th>3826</th>\n",
       "      <td>2L</td>\n",
       "      <td>10439373</td>\n",
       "      <td>10442085</td>\n",
       "    </tr>\n",
       "    <tr>\n",
       "      <th>3827</th>\n",
       "      <td>3R</td>\n",
       "      <td>4477321</td>\n",
       "      <td>4479529</td>\n",
       "    </tr>\n",
       "    <tr>\n",
       "      <th>3828</th>\n",
       "      <td>3L</td>\n",
       "      <td>711347</td>\n",
       "      <td>711871</td>\n",
       "    </tr>\n",
       "    <tr>\n",
       "      <th>3829</th>\n",
       "      <td>2L</td>\n",
       "      <td>6792695</td>\n",
       "      <td>6795077</td>\n",
       "    </tr>\n",
       "  </tbody>\n",
       "</table>\n",
       "<p>3830 rows × 3 columns</p>\n",
       "</div>"
      ],
      "text/plain": [
       "     chr     start       end\n",
       "0     3L  15823270  15830715\n",
       "1     2R  11451787  11459612\n",
       "2     3R  21665759  21673392\n",
       "3     2R  20324929  20331038\n",
       "4     3R  19859679  19864278\n",
       "...   ..       ...       ...\n",
       "3825  3R    565835    566082\n",
       "3826  2L  10439373  10442085\n",
       "3827  3R   4477321   4479529\n",
       "3828  3L    711347    711871\n",
       "3829  2L   6792695   6795077\n",
       "\n",
       "[3830 rows x 3 columns]"
      ]
     },
     "execution_count": 2,
     "metadata": {},
     "output_type": "execute_result"
    }
   ],
   "source": [
    "bed_columns = [\"chr\", \"start\", \"end\"]\n",
    "df_k4 = pd.read_table( \"../../qbb2020/data/K4me3.bed\", names=bed_columns )\n",
    "df_k4"
   ]
  },
  {
   "cell_type": "code",
   "execution_count": 3,
   "metadata": {},
   "outputs": [
    {
     "data": {
      "text/html": [
       "<div>\n",
       "<style scoped>\n",
       "    .dataframe tbody tr th:only-of-type {\n",
       "        vertical-align: middle;\n",
       "    }\n",
       "\n",
       "    .dataframe tbody tr th {\n",
       "        vertical-align: top;\n",
       "    }\n",
       "\n",
       "    .dataframe thead th {\n",
       "        text-align: right;\n",
       "    }\n",
       "</style>\n",
       "<table border=\"1\" class=\"dataframe\">\n",
       "  <thead>\n",
       "    <tr style=\"text-align: right;\">\n",
       "      <th></th>\n",
       "      <th>chr</th>\n",
       "      <th>start</th>\n",
       "      <th>end</th>\n",
       "    </tr>\n",
       "  </thead>\n",
       "  <tbody>\n",
       "    <tr>\n",
       "      <th>0</th>\n",
       "      <td>2L</td>\n",
       "      <td>5031</td>\n",
       "      <td>13131</td>\n",
       "    </tr>\n",
       "    <tr>\n",
       "      <th>1</th>\n",
       "      <td>2L</td>\n",
       "      <td>356567</td>\n",
       "      <td>382831</td>\n",
       "    </tr>\n",
       "    <tr>\n",
       "      <th>2</th>\n",
       "      <td>2L</td>\n",
       "      <td>582167</td>\n",
       "      <td>609431</td>\n",
       "    </tr>\n",
       "    <tr>\n",
       "      <th>3</th>\n",
       "      <td>2L</td>\n",
       "      <td>975967</td>\n",
       "      <td>996567</td>\n",
       "    </tr>\n",
       "    <tr>\n",
       "      <th>4</th>\n",
       "      <td>2L</td>\n",
       "      <td>1667067</td>\n",
       "      <td>1687931</td>\n",
       "    </tr>\n",
       "    <tr>\n",
       "      <th>...</th>\n",
       "      <td>...</td>\n",
       "      <td>...</td>\n",
       "      <td>...</td>\n",
       "    </tr>\n",
       "    <tr>\n",
       "      <th>291</th>\n",
       "      <td>X</td>\n",
       "      <td>22708532</td>\n",
       "      <td>22720332</td>\n",
       "    </tr>\n",
       "    <tr>\n",
       "      <th>292</th>\n",
       "      <td>X</td>\n",
       "      <td>22865032</td>\n",
       "      <td>22882596</td>\n",
       "    </tr>\n",
       "    <tr>\n",
       "      <th>293</th>\n",
       "      <td>X</td>\n",
       "      <td>22981432</td>\n",
       "      <td>23009896</td>\n",
       "    </tr>\n",
       "    <tr>\n",
       "      <th>294</th>\n",
       "      <td>X</td>\n",
       "      <td>23156000</td>\n",
       "      <td>23204164</td>\n",
       "    </tr>\n",
       "    <tr>\n",
       "      <th>295</th>\n",
       "      <td>Y</td>\n",
       "      <td>650514</td>\n",
       "      <td>1655192</td>\n",
       "    </tr>\n",
       "  </tbody>\n",
       "</table>\n",
       "<p>296 rows × 3 columns</p>\n",
       "</div>"
      ],
      "text/plain": [
       "    chr     start       end\n",
       "0    2L      5031     13131\n",
       "1    2L    356567    382831\n",
       "2    2L    582167    609431\n",
       "3    2L    975967    996567\n",
       "4    2L   1667067   1687931\n",
       "..   ..       ...       ...\n",
       "291   X  22708532  22720332\n",
       "292   X  22865032  22882596\n",
       "293   X  22981432  23009896\n",
       "294   X  23156000  23204164\n",
       "295   Y    650514   1655192\n",
       "\n",
       "[296 rows x 3 columns]"
      ]
     },
     "execution_count": 3,
     "metadata": {},
     "output_type": "execute_result"
    }
   ],
   "source": [
    "bed_columns = [\"chr\", \"start\", \"end\"]\n",
    "df_k9 = pd.read_table( \"../../qbb2020/data/K9me3.bed\", names=bed_columns )\n",
    "df_k9"
   ]
  },
  {
   "cell_type": "code",
   "execution_count": 4,
   "metadata": {},
   "outputs": [
    {
     "data": {
      "text/html": [
       "<div>\n",
       "<style scoped>\n",
       "    .dataframe tbody tr th:only-of-type {\n",
       "        vertical-align: middle;\n",
       "    }\n",
       "\n",
       "    .dataframe tbody tr th {\n",
       "        vertical-align: top;\n",
       "    }\n",
       "\n",
       "    .dataframe thead th {\n",
       "        text-align: right;\n",
       "    }\n",
       "</style>\n",
       "<table border=\"1\" class=\"dataframe\">\n",
       "  <thead>\n",
       "    <tr style=\"text-align: right;\">\n",
       "      <th></th>\n",
       "      <th>chr</th>\n",
       "      <th>start</th>\n",
       "      <th>end</th>\n",
       "    </tr>\n",
       "  </thead>\n",
       "  <tbody>\n",
       "    <tr>\n",
       "      <th>0</th>\n",
       "      <td>2L</td>\n",
       "      <td>5037</td>\n",
       "      <td>9637</td>\n",
       "    </tr>\n",
       "    <tr>\n",
       "      <th>1</th>\n",
       "      <td>2L</td>\n",
       "      <td>322173</td>\n",
       "      <td>326237</td>\n",
       "    </tr>\n",
       "    <tr>\n",
       "      <th>2</th>\n",
       "      <td>2L</td>\n",
       "      <td>365873</td>\n",
       "      <td>398837</td>\n",
       "    </tr>\n",
       "    <tr>\n",
       "      <th>3</th>\n",
       "      <td>2L</td>\n",
       "      <td>498973</td>\n",
       "      <td>547373</td>\n",
       "    </tr>\n",
       "    <tr>\n",
       "      <th>4</th>\n",
       "      <td>2L</td>\n",
       "      <td>579973</td>\n",
       "      <td>608037</td>\n",
       "    </tr>\n",
       "    <tr>\n",
       "      <th>...</th>\n",
       "      <td>...</td>\n",
       "      <td>...</td>\n",
       "      <td>...</td>\n",
       "    </tr>\n",
       "    <tr>\n",
       "      <th>426</th>\n",
       "      <td>X</td>\n",
       "      <td>20310691</td>\n",
       "      <td>20388555</td>\n",
       "    </tr>\n",
       "    <tr>\n",
       "      <th>427</th>\n",
       "      <td>X</td>\n",
       "      <td>20534591</td>\n",
       "      <td>20759055</td>\n",
       "    </tr>\n",
       "    <tr>\n",
       "      <th>428</th>\n",
       "      <td>X</td>\n",
       "      <td>20824191</td>\n",
       "      <td>20835255</td>\n",
       "    </tr>\n",
       "    <tr>\n",
       "      <th>429</th>\n",
       "      <td>X</td>\n",
       "      <td>20924791</td>\n",
       "      <td>20953755</td>\n",
       "    </tr>\n",
       "    <tr>\n",
       "      <th>430</th>\n",
       "      <td>X</td>\n",
       "      <td>21464155</td>\n",
       "      <td>21496991</td>\n",
       "    </tr>\n",
       "  </tbody>\n",
       "</table>\n",
       "<p>431 rows × 3 columns</p>\n",
       "</div>"
      ],
      "text/plain": [
       "    chr     start       end\n",
       "0    2L      5037      9637\n",
       "1    2L    322173    326237\n",
       "2    2L    365873    398837\n",
       "3    2L    498973    547373\n",
       "4    2L    579973    608037\n",
       "..   ..       ...       ...\n",
       "426   X  20310691  20388555\n",
       "427   X  20534591  20759055\n",
       "428   X  20824191  20835255\n",
       "429   X  20924791  20953755\n",
       "430   X  21464155  21496991\n",
       "\n",
       "[431 rows x 3 columns]"
      ]
     },
     "execution_count": 4,
     "metadata": {},
     "output_type": "execute_result"
    }
   ],
   "source": [
    "bed_columns = [\"chr\", \"start\", \"end\"]\n",
    "df_k27 = pd.read_table( \"../../qbb2020/data/K27me3.bed\", names=bed_columns )\n",
    "df_k27"
   ]
  },
  {
   "cell_type": "markdown",
   "metadata": {},
   "source": [
    "# get chromosomal distribution and sort it"
   ]
  },
  {
   "cell_type": "code",
   "execution_count": 5,
   "metadata": {},
   "outputs": [
    {
     "data": {
      "text/plain": [
       "2L                     713\n",
       "2R                     799\n",
       "3L                     773\n",
       "3R                     897\n",
       "4                       65\n",
       "X                      580\n",
       "Y                        2\n",
       "Y_CP007111v1_random      1\n",
       "Name: chr, dtype: int64"
      ]
     },
     "execution_count": 5,
     "metadata": {},
     "output_type": "execute_result"
    }
   ],
   "source": [
    "chr_k4 = df_k4.loc[:,\"chr\"]\n",
    "chr_k4 = chr_k4.value_counts()\n",
    "chr_k4 = chr_k4.sort_index()\n",
    "chr_k4"
   ]
  },
  {
   "cell_type": "code",
   "execution_count": 6,
   "metadata": {},
   "outputs": [
    {
     "data": {
      "text/plain": [
       "2L                     53\n",
       "2R                     50\n",
       "3L                     67\n",
       "3R                     51\n",
       "4                      11\n",
       "X                      61\n",
       "Y                       2\n",
       "Y_DS483690v1_random     1\n",
       "Name: chr, dtype: int64"
      ]
     },
     "execution_count": 6,
     "metadata": {},
     "output_type": "execute_result"
    }
   ],
   "source": [
    "chr_k9 = df_k9.loc[:,\"chr\"]\n",
    "chr_k9 = chr_k9.value_counts()\n",
    "chr_k9 = chr_k9.sort_index()\n",
    "chr_k9"
   ]
  },
  {
   "cell_type": "code",
   "execution_count": 7,
   "metadata": {},
   "outputs": [
    {
     "data": {
      "text/plain": [
       "2L                80\n",
       "2R               102\n",
       "3L                89\n",
       "3R                90\n",
       "4                  5\n",
       "Un_CP007080v1      1\n",
       "X                 64\n",
       "Name: chr, dtype: int64"
      ]
     },
     "execution_count": 7,
     "metadata": {},
     "output_type": "execute_result"
    }
   ],
   "source": [
    "chr_k27 = df_k27.loc[:,\"chr\"]\n",
    "chr_k27 = chr_k27.value_counts()\n",
    "chr_k27 = chr_k27.sort_index()\n",
    "chr_k27"
   ]
  },
  {
   "cell_type": "markdown",
   "metadata": {},
   "source": [
    "# plot sorted chromosomal distribution"
   ]
  },
  {
   "cell_type": "code",
   "execution_count": 12,
   "metadata": {},
   "outputs": [
    {
     "name": "stderr",
     "output_type": "stream",
     "text": [
      "/Users/cmdb/miniconda3/envs/cmdb/lib/python3.6/site-packages/ipykernel_launcher.py:6: UserWarning: FixedFormatter should only be used together with FixedLocator\n",
      "  \n",
      "/Users/cmdb/miniconda3/envs/cmdb/lib/python3.6/site-packages/ipykernel_launcher.py:7: UserWarning: FixedFormatter should only be used together with FixedLocator\n",
      "  import sys\n",
      "/Users/cmdb/miniconda3/envs/cmdb/lib/python3.6/site-packages/ipykernel_launcher.py:8: UserWarning: FixedFormatter should only be used together with FixedLocator\n",
      "  \n"
     ]
    },
    {
     "data": {
      "image/png": "[encoded data removed]",
      "text/plain": [
       "<Figure size 432x1080 with 3 Axes>"
      ]
     },
     "metadata": {
      "needs_background": "light"
     },
     "output_type": "display_data"
    }
   ],
   "source": [
    "fig, ax = plt.subplots( nrows=3 )\n",
    "fig.set_figheight(15)\n",
    "ax[0].bar( chr_k4.index, chr_k4 )\n",
    "ax[1].bar( chr_k9.index, chr_k9 )\n",
    "ax[2].bar( chr_k27.index, chr_k27 )\n",
    "ax[0].set_xticklabels(chr_k4.index, rotation=45, ha='right', fontsize=8) #rotate 90 deg so last tick doesnt overlap\n",
    "ax[1].set_xticklabels(chr_k9.index, rotation=45, ha='right')\n",
    "ax[2].set_xticklabels(chr_k27.index, rotation=45, ha='right')\n",
    "ax[0].set_xlabel(\"Chromosomes\", fontsize=16)\n",
    "ax[1].set_xlabel(\"Chromosomes\", fontsize=16)\n",
    "ax[2].set_xlabel(\"Chromosomes\", fontsize=16)\n",
    "ax[0].set_ylabel(\"Regions of Genome\", fontsize=16)\n",
    "ax[1].set_ylabel(\"Regions of Genome\", fontsize=16)\n",
    "ax[2].set_ylabel(\"Regions of Genome\", fontsize=16)\n",
    "ax[0].set_title(\"Distribution of Chromosomes in K4\", fontsize=20)\n",
    "ax[1].set_title(\"Distribution of Chromosomes in K9\", fontsize=20)\n",
    "ax[2].set_title(\"Distribution of Chromosomes in K27\", fontsize=20)\n",
    "fig.tight_layout(pad=5.0)"
   ]
  },
  {
   "cell_type": "markdown",
   "metadata": {},
   "source": [
    "Note the last subplot has less values has wider bars."
   ]
  },
  {
   "cell_type": "code",
   "execution_count": null,
   "metadata": {},
   "outputs": [],
   "source": []
  }
 ],
 "metadata": {
  "kernelspec": {
   "display_name": "Python 3",
   "language": "python",
   "name": "python3"
  },
  "language_info": {
   "codemirror_mode": {
    "name": "ipython",
    "version": 3
   },
   "file_extension": ".py",
   "mimetype": "text/x-python",
   "name": "python",
   "nbconvert_exporter": "python",
   "pygments_lexer": "ipython3",
   "version": "3.6.10"
  }
 },
 "nbformat": 4,
 "nbformat_minor": 4
}

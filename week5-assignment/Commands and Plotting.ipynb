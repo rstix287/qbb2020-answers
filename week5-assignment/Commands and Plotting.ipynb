{
 "cells": [
  {
   "cell_type": "code",
   "execution_count": 1,
   "metadata": {},
   "outputs": [],
   "source": [
    "import matplotlib.pyplot as plt\n",
    "import pandas as pd\n",
    "import numpy as np"
   ]
  },
  {
   "cell_type": "markdown",
   "metadata": {},
   "source": [
    "# Part 1"
   ]
  },
  {
   "cell_type": "markdown",
   "metadata": {},
   "source": [
    "First we generate an index of the sequence we are aligning to.\n",
    "> bowtie2-build chr19.fa chr19\n",
    "\n",
    "Then we mapped each set of reads against the reference genome. (I tried to format this correctly but the markdown in jupyter was doing weird things so I took the dollar signs out from before the brackets so it would show correctish...)\n",
    "> for sample in CTCF_ER4 CTCF_G1E input_ER4 input_G1E; do; bowtie2 -x chr19 -U {sample}.fastq -S {sample}.sam -p 6 ;samtools view -bSo {sample}.bam  {sample}.sam; samtools sort {sample}.bam {sample}.sorted; samtools index {sample}.sorted.bam; done\n",
    "\n",
    "\n",
    "Then we called the peaks using macs2 for both ER4 and G1E.\n",
    "> macs2 callpeak -t CTCF_ER4.bam -c input_ER4.bam --format=BAM --name=CTCF_ER4 --gsize=61000000 --tsize=36\n",
    "\n",
    "> macs2 callpeak -t CTCF_G1E.bam -c input_G1E.bam --format=BAM --name=CTCF_G1E --gsize=61000000 --tsize=36\n",
    "\n",
    "To idenfiy locations where CTCF binding was lost or gained we used bedtools interset with -v flag.\n",
    "> bedtools intersect -a CTCF_G1E_peaks.narrowPeak -b CTCF_ER4_peaks.narrowPeak -v > loss_features.bed\n",
    "\n",
    "> bedtools intersect -a CTCF_ER4_peaks.narrowPeak -b CTCF_G1E_peaks.narrowPeak -v > gained_features.bed\n",
    "\n",
    "To identify feature overlap we used bedtools interest.\n",
    "> bedtools intersect -a Mus_musculus.GRCm38.94_features.bed -b CTCF_G1E_peaks.narrowPeak > feature_overlapG1E.bed\n",
    "\n",
    "> bedtools intersect -a Mus_musculus.GRCm38.94_features.bed -b CTCF_ER4_peaks.narrowPeak > feature_overlapER4.bed\n",
    "\n",
    "To count the number of CTCF binding sites in G1E and ER4 overlap with each feature:\n",
    "> cut -f 4 feature_overlapG1E.bed | sort | uniq -c > featuresG1E.txt\n",
    "\n",
    "> cut -f 4 feature_overlapER4.bed | sort | uniq -c > featuresER4.txt\n",
    "\n",
    "To determine the number of sites lost and gained for ER4. Flip the numbers for G1E.\n",
    "> wc -l loss_features.bed > loss_gain.txt\n",
    "\n",
    "> wc -l gained_features.bed >> loss_gain.txt \n"
   ]
  },
  {
   "cell_type": "code",
   "execution_count": 60,
   "metadata": {},
   "outputs": [
    {
     "data": {
      "text/html": [
       "<div>\n",
       "<style scoped>\n",
       "    .dataframe tbody tr th:only-of-type {\n",
       "        vertical-align: middle;\n",
       "    }\n",
       "\n",
       "    .dataframe tbody tr th {\n",
       "        vertical-align: top;\n",
       "    }\n",
       "\n",
       "    .dataframe thead th {\n",
       "        text-align: right;\n",
       "    }\n",
       "</style>\n",
       "<table border=\"1\" class=\"dataframe\">\n",
       "  <thead>\n",
       "    <tr style=\"text-align: right;\">\n",
       "      <th></th>\n",
       "      <th>ER4</th>\n",
       "      <th>location</th>\n",
       "      <th>G1E</th>\n",
       "    </tr>\n",
       "  </thead>\n",
       "  <tbody>\n",
       "    <tr>\n",
       "      <th>0</th>\n",
       "      <td>101</td>\n",
       "      <td>exon</td>\n",
       "      <td>84</td>\n",
       "    </tr>\n",
       "    <tr>\n",
       "      <th>1</th>\n",
       "      <td>341</td>\n",
       "      <td>intron</td>\n",
       "      <td>307</td>\n",
       "    </tr>\n",
       "    <tr>\n",
       "      <th>2</th>\n",
       "      <td>67</td>\n",
       "      <td>promoter</td>\n",
       "      <td>54</td>\n",
       "    </tr>\n",
       "  </tbody>\n",
       "</table>\n",
       "</div>"
      ],
      "text/plain": [
       "   ER4  location  G1E\n",
       "0  101      exon   84\n",
       "1  341    intron  307\n",
       "2   67  promoter   54"
      ]
     },
     "execution_count": 60,
     "metadata": {},
     "output_type": "execute_result"
    }
   ],
   "source": [
    "# create merged dataframe for plotting \n",
    "ER4 = pd.read_csv(\"featuresER4.txt\", sep = \"\\s+\" , names = [\"ER4\", \"location\"] )\n",
    "G1E = pd.read_csv(\"featuresG1E.txt\", sep = \"\\s+\", names = [\"G1E\", \"location\"])\n",
    "ER4_G1E = pd.merge(ER4, G1E, on = \"location\")\n",
    "ER4_G1E"
   ]
  },
  {
   "cell_type": "code",
   "execution_count": 54,
   "metadata": {},
   "outputs": [
    {
     "data": {
      "text/html": [
       "<div>\n",
       "<style scoped>\n",
       "    .dataframe tbody tr th:only-of-type {\n",
       "        vertical-align: middle;\n",
       "    }\n",
       "\n",
       "    .dataframe tbody tr th {\n",
       "        vertical-align: top;\n",
       "    }\n",
       "\n",
       "    .dataframe thead th {\n",
       "        text-align: right;\n",
       "    }\n",
       "</style>\n",
       "<table border=\"1\" class=\"dataframe\">\n",
       "  <thead>\n",
       "    <tr style=\"text-align: right;\">\n",
       "      <th></th>\n",
       "      <th>ER4</th>\n",
       "      <th>G1E</th>\n",
       "      <th>lg</th>\n",
       "    </tr>\n",
       "  </thead>\n",
       "  <tbody>\n",
       "    <tr>\n",
       "      <th>0</th>\n",
       "      <td>57</td>\n",
       "      <td>124</td>\n",
       "      <td>loss</td>\n",
       "    </tr>\n",
       "    <tr>\n",
       "      <th>1</th>\n",
       "      <td>124</td>\n",
       "      <td>57</td>\n",
       "      <td>gain</td>\n",
       "    </tr>\n",
       "  </tbody>\n",
       "</table>\n",
       "</div>"
      ],
      "text/plain": [
       "   ER4  G1E    lg\n",
       "0   57  124  loss\n",
       "1  124   57  gain"
      ]
     },
     "execution_count": 54,
     "metadata": {},
     "output_type": "execute_result"
    }
   ],
   "source": [
    "# create DF for plotting based on loss_gain.txt file\n",
    "lg = pd.read_csv(\"loss_gain.txt\", sep = \"\\s+\", header = None)\n",
    "lg\n",
    "lg_features = {\"ER4\": [57, 124],\n",
    "               \"G1E\": [124, 57],\n",
    "               \"lg\": [\"loss\", \"gain\"]}\n",
    "lg_features = pd.DataFrame.from_dict(lg_features)\n",
    "lg_features"
   ]
  },
  {
   "cell_type": "code",
   "execution_count": 61,
   "metadata": {},
   "outputs": [
    {
     "data": {
      "text/plain": [
       "<matplotlib.legend.Legend at 0x7f86f93882b0>"
      ]
     },
     "execution_count": 61,
     "metadata": {},
     "output_type": "execute_result"
    },
    {
     "data": {
      "image/png": "[encoded data removed]",
      "text/plain": [
       "<Figure size 720x288 with 2 Axes>"
      ]
     },
     "metadata": {
      "needs_background": "light"
     },
     "output_type": "display_data"
    }
   ],
   "source": [
    "# plot for part 1\n",
    "fig, ax = plt.subplots(ncols = 2)\n",
    "fig.set_figwidth(10)\n",
    "ax[0].bar(ER4_G1E.index - 0.25/2, ER4_G1E[\"ER4\"], color = \"royalblue\", width = 0.25, label = \"ER4\")\n",
    "ax[0].bar(ER4_G1E.index + 0.25/2, ER4_G1E[\"G1E\"], color = \"violet\", width = 0.25, label = \"G1E\")\n",
    "ax[0].set_title(\"CTCF Binding Sites/Region/Cell Type\")\n",
    "ax[0].set_xlabel(\"CTCF Binding Sites\")\n",
    "ax[0].set_ylabel(\"Count\")\n",
    "ax[0].set_xticks([0, 1, 2])\n",
    "ax[0].set_xticklabels([\"exon\", \"intron\", \"promoter\"])\n",
    "ax[0].legend()\n",
    "\n",
    "ax[1].bar(lg_features.index - 0.25/2, lg_features[\"ER4\"], color = \"royalblue\", width = 0.25, label = \"ER4\")\n",
    "ax[1].bar(lg_features.index + 0.25/2, lg_features[\"G1E\"], color = \"violet\", width = 0.25, label = \"G1E\")\n",
    "ax[1].set_title(\"CTCF Binding Sites Lost and Gained/Cell Type\")\n",
    "ax[1].set_xlabel(\"CTCF Binding Sites\")\n",
    "ax[1].set_ylabel(\"Count\")\n",
    "ax[1].set_xticks([0, 1])\n",
    "ax[1].set_xticklabels([\"loss\", \"gain\"])\n",
    "ax[1].legend()\n",
    "\n"
   ]
  },
  {
   "cell_type": "markdown",
   "metadata": {},
   "source": [
    "# Part 2"
   ]
  },
  {
   "cell_type": "markdown",
   "metadata": {},
   "source": [
    "First need to sort the file by the p-values (since they are in log10 format we want the greatest 100 values) which are in column 8 and then take the 100 top values into a file.\n",
    "> sort -g -r -k 8 CTCF_ER4_peaks.narrowPeak | head -n 100 > top100_ER4.narrowPeak\n"
   ]
  },
  {
   "cell_type": "markdown",
   "metadata": {},
   "source": [
    "Then we need a fasta file to input into meme-chip so we use bedtools to convert the start-stop numbers in the bed file to fasta file based on chromosome 19.\n",
    "> bedtools getfasta -fi chr19.fa -bed top100_ER4.narrowPeak -fo top100_ER4.fasta"
   ]
  },
  {
   "cell_type": "markdown",
   "metadata": {},
   "source": [
    "Finally we run the meme-chip command considering motifs up to 20bp long using the JASPAR_CORE_2019 database.\n",
    "> meme-chip -meme-maxw 20 -db motif_databases/JASPAR/JASPAR_CORE_2016.meme top100_ER4.fasta\n",
    "\n",
    "The output directory had three logo files in it, and logo1.png had the smallest E-value 2.9e-201 which means it was the most significant and therefore strongest motif. The logo1.png was pushed to github separately."
   ]
  }
 ],
 "metadata": {
  "kernelspec": {
   "display_name": "Python 3",
   "language": "python",
   "name": "python3"
  },
  "language_info": {
   "codemirror_mode": {
    "name": "ipython",
    "version": 3
   },
   "file_extension": ".py",
   "mimetype": "text/x-python",
   "name": "python",
   "nbconvert_exporter": "python",
   "pygments_lexer": "ipython3",
   "version": "3.6.10"
  }
 },
 "nbformat": 4,
 "nbformat_minor": 4
}

{
 "cells": [
  {
   "cell_type": "code",
   "execution_count": 1,
   "metadata": {},
   "outputs": [],
   "source": [
    "import matplotlib.pyplot as plt\n",
    "from scipy import stats\n",
    "import math\n",
    "import pandas as pd\n",
    "import numpy as np"
   ]
  },
  {
   "cell_type": "markdown",
   "metadata": {},
   "source": [
    "# Question 1:"
   ]
  },
  {
   "cell_type": "markdown",
   "metadata": {},
   "source": [
    "Did blast run where query sequence was input. The program selection was changed to somewhat similar sequences (blastn). The max target sequences was changed to 1000 and the expected threshold was changed to 0.0001. Downloaded complete sequences and came as file seqdump.txt."
   ]
  },
  {
   "cell_type": "markdown",
   "metadata": {},
   "source": [
    "# Question 2:"
   ]
  },
  {
   "cell_type": "markdown",
   "metadata": {},
   "source": [
    "In command line:\n",
    "> transeq -sequence seqdump.txt -outseq prot_fmt.txt\n",
    "\n",
    "> mafft prot_fmt.txt > prot_aln.fa\n"
   ]
  },
  {
   "cell_type": "markdown",
   "metadata": {},
   "source": [
    "# Question 3/4:"
   ]
  },
  {
   "cell_type": "markdown",
   "metadata": {},
   "source": [
    "The scription done for 3 and 4 was done into a file called gap_nuc_add.py which will write a ratio file. There are two functions inside, the first will create the aligned DNA sequences (question 3) and the next will calculation dN and dS write them out below to dS or dN files. The run command for the file is below and then I read in the dN and dS files and go from there to create the plot and do statistical analysis."
   ]
  },
  {
   "cell_type": "code",
   "execution_count": 2,
   "metadata": {},
   "outputs": [],
   "source": [
    "%run gap_nuc_add.py prot_aln.fa seqdump.txt"
   ]
  },
  {
   "cell_type": "code",
   "execution_count": 3,
   "metadata": {},
   "outputs": [
    {
     "data": {
      "text/plain": [
       "array([124.,  37., 193., ..., 138., 391., 342.])"
      ]
     },
     "execution_count": 3,
     "metadata": {},
     "output_type": "execute_result"
    }
   ],
   "source": [
    "dN = np.genfromtxt(\"dN.txt\")\n",
    "dS = np.genfromtxt(\"dS.txt\")\n",
    "D = dN - dS\n",
    "D"
   ]
  },
  {
   "cell_type": "code",
   "execution_count": 4,
   "metadata": {},
   "outputs": [
    {
     "data": {
      "text/html": [
       "<div>\n",
       "<style scoped>\n",
       "    .dataframe tbody tr th:only-of-type {\n",
       "        vertical-align: middle;\n",
       "    }\n",
       "\n",
       "    .dataframe tbody tr th {\n",
       "        vertical-align: top;\n",
       "    }\n",
       "\n",
       "    .dataframe thead th {\n",
       "        text-align: right;\n",
       "    }\n",
       "</style>\n",
       "<table border=\"1\" class=\"dataframe\">\n",
       "  <thead>\n",
       "    <tr style=\"text-align: right;\">\n",
       "      <th></th>\n",
       "      <th>log2-ratio</th>\n",
       "      <th>zscore</th>\n",
       "      <th>index</th>\n",
       "    </tr>\n",
       "  </thead>\n",
       "  <tbody>\n",
       "    <tr>\n",
       "      <th>0</th>\n",
       "      <td>2.152003</td>\n",
       "      <td>-0.751256</td>\n",
       "      <td>0</td>\n",
       "    </tr>\n",
       "    <tr>\n",
       "      <th>1</th>\n",
       "      <td>1.943416</td>\n",
       "      <td>-1.109010</td>\n",
       "      <td>1</td>\n",
       "    </tr>\n",
       "    <tr>\n",
       "      <th>2</th>\n",
       "      <td>4.836501</td>\n",
       "      <td>-0.467520</td>\n",
       "      <td>2</td>\n",
       "    </tr>\n",
       "    <tr>\n",
       "      <th>3</th>\n",
       "      <td>6.727920</td>\n",
       "      <td>-0.397614</td>\n",
       "      <td>3</td>\n",
       "    </tr>\n",
       "    <tr>\n",
       "      <th>4</th>\n",
       "      <td>4.405992</td>\n",
       "      <td>-0.430511</td>\n",
       "      <td>4</td>\n",
       "    </tr>\n",
       "    <tr>\n",
       "      <th>...</th>\n",
       "      <td>...</td>\n",
       "      <td>...</td>\n",
       "      <td>...</td>\n",
       "    </tr>\n",
       "    <tr>\n",
       "      <th>3141</th>\n",
       "      <td>0.000000</td>\n",
       "      <td>-1.261159</td>\n",
       "      <td>3141</td>\n",
       "    </tr>\n",
       "    <tr>\n",
       "      <th>3142</th>\n",
       "      <td>2.643856</td>\n",
       "      <td>-1.002095</td>\n",
       "      <td>3142</td>\n",
       "    </tr>\n",
       "    <tr>\n",
       "      <th>3143</th>\n",
       "      <td>4.837943</td>\n",
       "      <td>-0.693687</td>\n",
       "      <td>3143</td>\n",
       "    </tr>\n",
       "    <tr>\n",
       "      <th>3144</th>\n",
       "      <td>4.854423</td>\n",
       "      <td>0.346679</td>\n",
       "      <td>3144</td>\n",
       "    </tr>\n",
       "    <tr>\n",
       "      <th>3145</th>\n",
       "      <td>3.546894</td>\n",
       "      <td>0.145185</td>\n",
       "      <td>3145</td>\n",
       "    </tr>\n",
       "  </tbody>\n",
       "</table>\n",
       "<p>3146 rows × 3 columns</p>\n",
       "</div>"
      ],
      "text/plain": [
       "      log2-ratio    zscore  index\n",
       "0       2.152003 -0.751256      0\n",
       "1       1.943416 -1.109010      1\n",
       "2       4.836501 -0.467520      2\n",
       "3       6.727920 -0.397614      3\n",
       "4       4.405992 -0.430511      4\n",
       "...          ...       ...    ...\n",
       "3141    0.000000 -1.261159   3141\n",
       "3142    2.643856 -1.002095   3142\n",
       "3143    4.837943 -0.693687   3143\n",
       "3144    4.854423  0.346679   3144\n",
       "3145    3.546894  0.145185   3145\n",
       "\n",
       "[3146 rows x 3 columns]"
      ]
     },
     "execution_count": 4,
     "metadata": {},
     "output_type": "execute_result"
    }
   ],
   "source": [
    "# create dictionary of log2 of ratio and zscores, and convert to dataframe (easier to plot)\n",
    "# add index to df again easier to plot\n",
    "dict = {\"log2-ratio\": np.log2(dN/dS), \n",
    "        \"zscore\": stats.zscore(D)}\n",
    "df = pd.DataFrame(dict)\n",
    "df['index'] = range(len(df))\n",
    "df"
   ]
  },
  {
   "cell_type": "code",
   "execution_count": 5,
   "metadata": {},
   "outputs": [
    {
     "data": {
      "text/plain": [
       "<matplotlib.legend.Legend at 0x7f9e4abeb828>"
      ]
     },
     "execution_count": 5,
     "metadata": {},
     "output_type": "execute_result"
    },
    {
     "data": {
      "image/png": "[encoded data removed]",
      "text/plain": [
       "<Figure size 432x288 with 1 Axes>"
      ]
     },
     "metadata": {
      "needs_background": "light"
     },
     "output_type": "display_data"
    }
   ],
   "source": [
    "#plot codon position by log2 or dN/dS ratio\n",
    "fig, ax = plt.subplots()\n",
    "ax.scatter(x = df[\"index\"][(df['zscore'] > -1.65) & (df['zscore'] < 1.65)], y = df['log2-ratio'][(df['zscore'] > -1.65) & (df['zscore'] < 1.65)], color = \"blue\", label = \"Fail to Reject\")\n",
    "ax.scatter(x = df[\"index\"][(df[\"zscore\"] <= -1.65) | (df[\"zscore\"] >= 1.65)], y = df['log2-ratio'][(df[\"zscore\"] <= -1.65) | (df[\"zscore\"] >= 1.65)], color = \"red\", label = \"Reject Null\")\n",
    "ax.set_title('dN/dS ratio based on Codon Position', fontsize=20)\n",
    "ax.set_xlabel('Codon Position', fontsize=16)\n",
    "ax.set_ylabel('Log2 dN/dS ratio', fontsize=16)\n",
    "plt.legend()"
   ]
  },
  {
   "cell_type": "code",
   "execution_count": null,
   "metadata": {},
   "outputs": [],
   "source": []
  }
 ],
 "metadata": {
  "kernelspec": {
   "display_name": "Python 3",
   "language": "python",
   "name": "python3"
  },
  "language_info": {
   "codemirror_mode": {
    "name": "ipython",
    "version": 3
   },
   "file_extension": ".py",
   "mimetype": "text/x-python",
   "name": "python",
   "nbconvert_exporter": "python",
   "pygments_lexer": "ipython3",
   "version": "3.6.10"
  }
 },
 "nbformat": 4,
 "nbformat_minor": 4
}
